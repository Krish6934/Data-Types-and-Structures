{
  "nbformat": 4,
  "nbformat_minor": 0,
  "metadata": {
    "colab": {
      "provenance": []
    },
    "kernelspec": {
      "name": "python3",
      "display_name": "Python 3"
    },
    "language_info": {
      "name": "python"
    }
  },
  "cells": [
    {
      "cell_type": "markdown",
      "source": [
        "# Data Types and Structures\n",
        "\n",
        "1.  What are data structures, and why are they important ?\n",
        "\n",
        "- Data structures are ways to store and organize data so we can use it efficiently. They help us write better,\n",
        " faster, and easier-to-understand code .\n",
        "\n",
        "\n",
        "  2. Explain the difference between mutable and immutable data types with examples.\n",
        "\n",
        "-  Mutable means you can change the data after its created (like a list), and immutable means you cant (like a\n",
        " string or tuple).\n",
        " Example:-  \n",
        "-Mutable: my_list = [1, 2]; my_list[0] = 99\n",
        "- Immutable: my_str = \"hello\"; my_str[0] = \"H\"  this gives an error.\n",
        "\n",
        "\n",
        " 3. What are the main differences between lists and tuples in Python?\n",
        " - Lists can be changed (mutable), tuples cant (immutable).\n",
        " - Lists use square brackets [ ], tuples use parentheses ( ).\n",
        " - Tuples are usually faster and used  when you want to protect data.\n",
        "\n",
        " 4. Describe how dictionaries store data.\n",
        "\n",
        " - Dictionaries store data in key-value pairs. Each key points to a value, like a label on a drawer telling you whats inside.\n",
        "\n",
        "5. Why might you use a set instead of a list in Python?\n",
        "- Sets automatically remove duplicates and are faster when checking if something exists. Great when you want unique items.\n",
        "\n",
        "\n",
        " 6. What is a string in Python, and how is it different from a list?\n",
        " - A string is a sequence of characters (like text). A list can hold any data types, not just characters. Also, strings are immutable, but lists are not.\n",
        "\n",
        "\n",
        " 7. How do tuples ensure data integrity in Python?\n",
        " - Since tuples cant be changed, they keep the data safe from being modified accidentally. This is useful when you want constant values.\n",
        "\n",
        "\n",
        " 8. What is a hash table, and how does it relate to dictionaries in Python?\n",
        " - A hash table is a way to store data using a unique key. Python dictionaries use hash tables behind the\n",
        " scenes to make looking up values fast.\n",
        "\n",
        " 9. Can lists contain different data types in Python?\n",
        " - Yes! A list can hold numbers, strings, other lists, or anything else.\n",
        " Example: [1, \"hello\", [2, 3]]\n",
        "\n",
        " 10. Explain why strings are immutable in Python.\n",
        "  \n",
        "- Strings cant be changed to keep things simple and safe. If you change a string, Python makes a new one\n",
        " instead.\n",
        "\n",
        "11. What advantages do dictionaries offer over lists for certain tasks?\n",
        "- Dictionaries are great for fast lookups when you know the key. You dont need to search through every item\n",
        " like in a list.\n",
        "\n",
        "12. Describe a scenario where using a tuple would be preferable over a list.\n",
        "- Use a tuple when storing data that shouldnt changelike coordinates (x, y), dates, or keys for a dictionary.\n",
        "\n",
        "13. How do sets handle duplicate values in Python?\n",
        "- Sets automatically remove duplicates. If you add the same item twice, it only keeps one.\n",
        "\n",
        "14. How does the \"in\" keyword work differently for lists and dictionaries?\n",
        "- In a list: checks if the value is there.- In a dictionary: checks if the *key* is there, not the value.\n",
        "\n",
        "15. Can you modify the elements of a tuple? Explain why or why not.\n",
        "- No, you cant. Tuples are immutable, so once theyre made, you cant change any of their values.\n",
        "\n",
        "\n",
        " 16. What is a nested dictionary, and give an example of its use case?\n",
        " - Its a dictionary inside another dictionary.\n",
        " Example: {\"student\": {\"name\": \"Anna\", \"age\": 20}}\n",
        " Use it to organize complex data, like storing student profiles.\n",
        "\n",
        " 17. Describe the time complexity of accessing elements in a dictionary.\n",
        " - Usually, its O(1), which means its super fast and doesnt depend on how big the dictionary is.\n",
        "\n",
        " 18. In what situations are lists preferred over dictionaries?\n",
        " - When you just need to store items in order and dont need to label them. Like a to-do list or shopping list.\n",
        "\n",
        " 19. Why are dictionaries considered unordered, and how does that affect data retrieval?\n",
        " - Before Python 3.7, dictionaries didnt keep the order of items. Now they do, but we still think of them as\n",
        " unordered because we access data by keys, not position.\n",
        "\n",
        " 20. Explain the difference between a list and a dictionary in terms of data retrieval.\n",
        " - Lists use index numbers to get data (like my_list[0]).\n",
        " -Dictionaries use keys (like my_dict[\"name\"]), which can be more readable and faster for some tasks.\n",
        "\n",
        "\n",
        "\n",
        "# Practical Questions and Answers\n"
      ],
      "metadata": {
        "id": "evjnPyOqwvBO"
      }
    },
    {
      "cell_type": "code",
      "source": [
        "# 1. Write a code to create a string with your name and print it.\n",
        "\n",
        "name = \"Krish\"\n",
        "print(name)"
      ],
      "metadata": {
        "colab": {
          "base_uri": "https://localhost:8080/"
        },
        "id": "-rzANkrK5zmd",
        "outputId": "275e297d-e390-40b7-c40e-955f66a6b657"
      },
      "execution_count": null,
      "outputs": [
        {
          "output_type": "stream",
          "name": "stdout",
          "text": [
            "Krish\n"
          ]
        }
      ]
    },
    {
      "cell_type": "code",
      "source": [
        "# 2. Write a code to find the length of the string \"Hello World\".\n",
        "\n",
        "string = \"Hello world\"\n",
        "print(len(string))\n"
      ],
      "metadata": {
        "colab": {
          "base_uri": "https://localhost:8080/"
        },
        "id": "ktcvrTts7Mo2",
        "outputId": "f3b02be0-c9d9-4ce3-d874-6e916f6840d0"
      },
      "execution_count": null,
      "outputs": [
        {
          "output_type": "stream",
          "name": "stdout",
          "text": [
            "11\n"
          ]
        }
      ]
    },
    {
      "cell_type": "code",
      "source": [
        "# 3. Write a code to slice the first 3 characters from the string \"Python Programming\".\n",
        "\n",
        "string = \"Python Programming\"\n",
        "print(string[:3])"
      ],
      "metadata": {
        "colab": {
          "base_uri": "https://localhost:8080/"
        },
        "id": "AtU23qEG71w7",
        "outputId": "36192c3d-6685-4b47-9869-241e1a2c9a42"
      },
      "execution_count": null,
      "outputs": [
        {
          "output_type": "stream",
          "name": "stdout",
          "text": [
            "Pyt\n"
          ]
        }
      ]
    },
    {
      "cell_type": "code",
      "source": [
        "# 4. Write a code to convert the string \"hello\" to uppercase.\n",
        "\n",
        "string = \"hello\"\n",
        "print(string.upper())"
      ],
      "metadata": {
        "colab": {
          "base_uri": "https://localhost:8080/"
        },
        "id": "MDl3F8w18hUD",
        "outputId": "9cf6350f-9b68-4537-d93b-33231fd1aaae"
      },
      "execution_count": null,
      "outputs": [
        {
          "output_type": "stream",
          "name": "stdout",
          "text": [
            "HELLO\n"
          ]
        }
      ]
    },
    {
      "cell_type": "code",
      "source": [
        "#  5. Write a code to replace the word \"apple\" with \"orange\" in the string \"I like apple\".\n",
        "\n",
        "\n",
        "\n",
        "string = 'I like apple'\n",
        "print(string.replace(\"apple\", \"orange\"))\n",
        "\n",
        "\n"
      ],
      "metadata": {
        "colab": {
          "base_uri": "https://localhost:8080/"
        },
        "id": "IenG9fM0883-",
        "outputId": "64282b64-22a0-42bf-f213-de2fa20ec8e8"
      },
      "execution_count": null,
      "outputs": [
        {
          "output_type": "stream",
          "name": "stdout",
          "text": [
            "I like orange\n"
          ]
        }
      ]
    },
    {
      "cell_type": "code",
      "source": [
        "# 6. Write a code to create a list with numbers 1 to 5 and print it.\n",
        "numbers = [1 , 2 , 3 , 4 , 5]\n",
        "print(numbers)"
      ],
      "metadata": {
        "colab": {
          "base_uri": "https://localhost:8080/"
        },
        "id": "Fk86J_sc9qTh",
        "outputId": "78841108-9af4-41cd-8c4a-d479edb29742"
      },
      "execution_count": null,
      "outputs": [
        {
          "output_type": "stream",
          "name": "stdout",
          "text": [
            "[1, 2, 3, 4, 5]\n"
          ]
        }
      ]
    },
    {
      "cell_type": "code",
      "source": [
        "# 7. Write a code to append the number 10 to the list [1, 2, 3, 4].\n",
        "numbers = [1 , 2 , 3 , 4]\n",
        "numbers.append(10)\n",
        "print(numbers)"
      ],
      "metadata": {
        "colab": {
          "base_uri": "https://localhost:8080/"
        },
        "id": "-akk044EAqgA",
        "outputId": "73f38be4-b152-4214-e42a-ea67ac2ec87e"
      },
      "execution_count": null,
      "outputs": [
        {
          "output_type": "stream",
          "name": "stdout",
          "text": [
            "[1, 2, 3, 4, 10]\n"
          ]
        }
      ]
    },
    {
      "cell_type": "code",
      "source": [
        "# 8. Write a code to remove the number 3 from the list [1, 2, 3, 4, 5].\n",
        "numbers = [1 , 2 , 3 , 4 , 5]\n",
        "numbers.remove(3)\n",
        "print(numbers)"
      ],
      "metadata": {
        "colab": {
          "base_uri": "https://localhost:8080/"
        },
        "id": "_7Xcyrc8BPri",
        "outputId": "bbd98498-8357-4259-d4c6-8b733bf91a6c"
      },
      "execution_count": null,
      "outputs": [
        {
          "output_type": "stream",
          "name": "stdout",
          "text": [
            "[1, 2, 4, 5]\n"
          ]
        }
      ]
    },
    {
      "cell_type": "code",
      "source": [
        "# 9. Write a code to access the second element in the list ['a', 'b', 'c', 'd'].\n",
        "letters = ['a' , 'b', 'c' , 'd']\n",
        "print(letters[1])"
      ],
      "metadata": {
        "colab": {
          "base_uri": "https://localhost:8080/"
        },
        "id": "FECHZ8A2B3R3",
        "outputId": "7fb236b5-ec24-4335-a289-eb3a8fe3311d"
      },
      "execution_count": null,
      "outputs": [
        {
          "output_type": "stream",
          "name": "stdout",
          "text": [
            "b\n"
          ]
        }
      ]
    },
    {
      "cell_type": "code",
      "source": [
        "# 10.  Write a code to reverse the list [10, 20, 30, 40, 50].\n",
        "numbers = [10 , 20 , 30 , 40 , 50]\n",
        "numbers.reverse()\n",
        "print(numbers)"
      ],
      "metadata": {
        "colab": {
          "base_uri": "https://localhost:8080/"
        },
        "id": "ISdimnUlCmqY",
        "outputId": "4f91680c-0030-4e79-f9f4-ce2a2fa9c851"
      },
      "execution_count": null,
      "outputs": [
        {
          "output_type": "stream",
          "name": "stdout",
          "text": [
            "[50, 40, 30, 20, 10]\n"
          ]
        }
      ]
    },
    {
      "cell_type": "code",
      "source": [
        "# 11. Write a code to create a tuple with the elements 100, 200, 300 and print it.\n",
        "\n",
        "numbers = (100 , 200 , 300)\n",
        "print(numbers)"
      ],
      "metadata": {
        "colab": {
          "base_uri": "https://localhost:8080/"
        },
        "id": "tlDtw-FVDX-Z",
        "outputId": "f720cd0f-df27-4c4d-bba8-7d0360f7b778"
      },
      "execution_count": null,
      "outputs": [
        {
          "output_type": "stream",
          "name": "stdout",
          "text": [
            "(100, 200, 300)\n"
          ]
        }
      ]
    },
    {
      "cell_type": "code",
      "source": [
        "# 12. Write a code to access the second-to-last element of the tuple ('red', 'green', 'blue', 'yellow').\n",
        "\n",
        "colors = ('red' , 'green' , 'bule' , 'yellow')\n",
        "print(colors[-2])"
      ],
      "metadata": {
        "colab": {
          "base_uri": "https://localhost:8080/"
        },
        "id": "SO_mxoGVEHWy",
        "outputId": "0575a0cc-10ea-43de-94a8-61cee2364b8e"
      },
      "execution_count": null,
      "outputs": [
        {
          "output_type": "stream",
          "name": "stdout",
          "text": [
            "bule\n"
          ]
        }
      ]
    },
    {
      "cell_type": "code",
      "source": [
        "# 13.  Write a code to find the minimum number in the tuple (10, 20, 5, 15).\n",
        "\n",
        "numbers = (10 , 20 , 5 , 15)\n",
        "print(min(numbers))"
      ],
      "metadata": {
        "id": "SCPzZzB1FYxF",
        "colab": {
          "base_uri": "https://localhost:8080/"
        },
        "outputId": "123b3eb5-bb16-4550-c1c5-0828e5ab7f51"
      },
      "execution_count": null,
      "outputs": [
        {
          "output_type": "stream",
          "name": "stdout",
          "text": [
            "5\n"
          ]
        }
      ]
    },
    {
      "cell_type": "code",
      "source": [
        "# 14. Write a code to find the index of the element \"cat\" in the tuple ('dog', 'cat', 'rabbit').\n",
        "\n",
        "animals = ('dog', 'cat' , 'rabbit')\n",
        "print(animals.index('cat'))"
      ],
      "metadata": {
        "colab": {
          "base_uri": "https://localhost:8080/"
        },
        "id": "w9H09-fKBlYU",
        "outputId": "b08f514c-2d60-45a2-fe31-0a878ab9cf46"
      },
      "execution_count": null,
      "outputs": [
        {
          "output_type": "stream",
          "name": "stdout",
          "text": [
            "1\n"
          ]
        }
      ]
    },
    {
      "cell_type": "code",
      "source": [
        "# 15. Write a code to create a tuple containing three different fruits and check if \"kiwi\" is in it.\n",
        "\n",
        "fruits = ('apple' , 'banana' , 'orange')\n",
        "print('kiwi' in fruits)"
      ],
      "metadata": {
        "colab": {
          "base_uri": "https://localhost:8080/"
        },
        "id": "wVSsh7QACFCZ",
        "outputId": "db59fbc7-29ca-4584-b054-3d1b261a372e"
      },
      "execution_count": null,
      "outputs": [
        {
          "output_type": "stream",
          "name": "stdout",
          "text": [
            "False\n"
          ]
        }
      ]
    },
    {
      "cell_type": "code",
      "source": [
        "#  16. Write a code to create a set with the elements 'a', 'b', 'c' and print it.\n",
        "\n",
        "letters = {'a' , 'b' , 'c'}\n",
        "print(letters)"
      ],
      "metadata": {
        "id": "ht_TMfUtCoN6",
        "colab": {
          "base_uri": "https://localhost:8080/"
        },
        "outputId": "9a58b97d-ffe9-4b78-869c-93f494314c18"
      },
      "execution_count": null,
      "outputs": [
        {
          "output_type": "stream",
          "name": "stdout",
          "text": [
            "{'c', 'a', 'b'}\n"
          ]
        }
      ]
    },
    {
      "cell_type": "code",
      "source": [
        "# 17. Write a code to clear all elements from the set {1, 2, 3, 4, 5}.\n",
        "\n",
        "numbers = {1 , 2 , 3 , 4 , 5}\n",
        "numbers.clear()\n",
        "print(numbers)"
      ],
      "metadata": {
        "id": "pzWh19HFDHxb",
        "colab": {
          "base_uri": "https://localhost:8080/"
        },
        "outputId": "5768d011-8c46-4cae-a43a-b690b9d5c99f"
      },
      "execution_count": 5,
      "outputs": [
        {
          "output_type": "stream",
          "name": "stdout",
          "text": [
            "set()\n"
          ]
        }
      ]
    },
    {
      "cell_type": "code",
      "source": [
        "# 18. Write a code to remove the element 4 from the set {1, 2, 3, 4}.\n",
        "\n",
        "my_set = {1, 2 , 3 , 4}\n",
        "my_set.discard(4)\n",
        "print(my_set)\n",
        "\n"
      ],
      "metadata": {
        "colab": {
          "base_uri": "https://localhost:8080/"
        },
        "id": "D2ApQX1pDncz",
        "outputId": "d8b31582-b8fd-40f2-d289-15c9318b372b"
      },
      "execution_count": 8,
      "outputs": [
        {
          "output_type": "stream",
          "name": "stdout",
          "text": [
            "{1, 2, 3}\n"
          ]
        }
      ]
    },
    {
      "cell_type": "code",
      "source": [
        "#  19. Write a code to find the union of two sets {1, 2, 3} and {3, 4, 5}.\n",
        "\n",
        "set1 = {1 , 2 , 3}\n",
        "set2 = {3 , 4 , 5}\n",
        "print(set1.intersection(set2))"
      ],
      "metadata": {
        "colab": {
          "base_uri": "https://localhost:8080/"
        },
        "id": "HdI9jJ3UFGud",
        "outputId": "6498674f-9aa2-4f11-a2a9-c573a0583948"
      },
      "execution_count": 10,
      "outputs": [
        {
          "output_type": "stream",
          "name": "stdout",
          "text": [
            "{3}\n"
          ]
        }
      ]
    },
    {
      "cell_type": "code",
      "source": [
        "# 20. Write a code to find the intersection of two sets {1, 2, 3} and {2, 3, 4}.\n",
        "\n",
        "set1 = {1 , 2 , 3}\n",
        "set2 = {2 , 3 , 4}\n",
        "print(set1.intersection(set2))"
      ],
      "metadata": {
        "colab": {
          "base_uri": "https://localhost:8080/"
        },
        "id": "fbs0lwsfFjkw",
        "outputId": "8e845ea5-31c0-453a-9f08-00bdd1773ac9"
      },
      "execution_count": 11,
      "outputs": [
        {
          "output_type": "stream",
          "name": "stdout",
          "text": [
            "{2, 3}\n"
          ]
        }
      ]
    },
    {
      "cell_type": "code",
      "source": [
        "#  21. Write a code to create a dictionary with the keys \"name\", \"age\", and \"city\", and print it.\n",
        "\n",
        "person = {'name': 'Krish' , 'age': 15 , 'city': 'Ahmedabad'}\n",
        "print(person)"
      ],
      "metadata": {
        "colab": {
          "base_uri": "https://localhost:8080/"
        },
        "id": "fZFc_9JeGqAW",
        "outputId": "4db1ba89-0fe7-4811-e95d-82048f4fd004"
      },
      "execution_count": 12,
      "outputs": [
        {
          "output_type": "stream",
          "name": "stdout",
          "text": [
            "{'name': 'Krish', 'age': 15, 'city': 'Ahmedabad'}\n"
          ]
        }
      ]
    },
    {
      "cell_type": "code",
      "source": [
        "# 22. Write a code to add a new key-value pair \"country\": \"USA\" to the dictionary {'name': 'John', 'age': 25}.\n",
        "\n",
        "person = {'name': 'John' , 'age': 25}\n",
        "person['country'] = 'USA'\n",
        "print(person)"
      ],
      "metadata": {
        "colab": {
          "base_uri": "https://localhost:8080/"
        },
        "id": "K0Fg4irgHrh1",
        "outputId": "45dc0955-984b-4864-eadb-93bea21dd693"
      },
      "execution_count": 13,
      "outputs": [
        {
          "output_type": "stream",
          "name": "stdout",
          "text": [
            "{'name': 'John', 'age': 25, 'country': 'USA'}\n"
          ]
        }
      ]
    },
    {
      "cell_type": "code",
      "source": [
        "# 23. Write a code to access the value associated with the key \"name\" in the dictionary {'name': 'Alice', 'age': 30}.\n",
        "\n",
        "person = {'name': 'Alice' , 'age': 30}\n",
        "print(person['name'])"
      ],
      "metadata": {
        "colab": {
          "base_uri": "https://localhost:8080/"
        },
        "id": "JTN3LBWJIbLG",
        "outputId": "3a1ff7e7-4ac5-45ac-f186-b1066cae946a"
      },
      "execution_count": 14,
      "outputs": [
        {
          "output_type": "stream",
          "name": "stdout",
          "text": [
            "Alice\n"
          ]
        }
      ]
    },
    {
      "cell_type": "code",
      "source": [
        "# 24. Write a code to remove the key \"age\" from the dictionary {'name': 'Bob', 'age': 22, 'city': 'New York'}.\n",
        "\n",
        "person = {'name': 'Bob' , 'age': 22, 'city': 'New York'}\n",
        "del person['age']\n",
        "print(person)"
      ],
      "metadata": {
        "colab": {
          "base_uri": "https://localhost:8080/"
        },
        "id": "MfBbVcRbI9Ov",
        "outputId": "a1c3b059-79eb-4a8d-a67f-f8f297c14ed8"
      },
      "execution_count": 15,
      "outputs": [
        {
          "output_type": "stream",
          "name": "stdout",
          "text": [
            "{'name': 'Bob', 'city': 'New York'}\n"
          ]
        }
      ]
    },
    {
      "cell_type": "code",
      "source": [
        "# 25. Write a code to check if the key \"city\" exists in the dictionary {'name': 'Alice', 'city': 'Paris'}.\n",
        "\n",
        "person = {'name': 'Alice' , 'city': 'Paris'}\n",
        "print('city' in person)"
      ],
      "metadata": {
        "colab": {
          "base_uri": "https://localhost:8080/"
        },
        "id": "1pwR0PfpKCZl",
        "outputId": "5a22509d-0b63-434c-d8c6-f8806eaf8deb"
      },
      "execution_count": 16,
      "outputs": [
        {
          "output_type": "stream",
          "name": "stdout",
          "text": [
            "True\n"
          ]
        }
      ]
    },
    {
      "cell_type": "code",
      "source": [
        "#  26. Write a code to create a list, a tuple, and a dictionary, and print them all.\n",
        "\n",
        "my_list = [1 , 2, 3]\n",
        "my_tuple = (4 , 5, 6)\n",
        "my_dict = {'a': 1, 'b': 2}\n",
        "print(my_list)\n",
        "print(my_tuple)\n",
        "print(my_dict)"
      ],
      "metadata": {
        "colab": {
          "base_uri": "https://localhost:8080/"
        },
        "id": "S5gYXoTTKilf",
        "outputId": "22e2a87a-6b18-45ce-8c26-0d0d5ed99424"
      },
      "execution_count": 17,
      "outputs": [
        {
          "output_type": "stream",
          "name": "stdout",
          "text": [
            "[1, 2, 3]\n",
            "(4, 5, 6)\n",
            "{'a': 1, 'b': 2}\n"
          ]
        }
      ]
    },
    {
      "cell_type": "code",
      "source": [
        "# 27. Write a code to create a list of 5 random numbers between 1 and 100, sort it in ascending order, and print the result. (replaced)\n",
        "\n",
        "import random\n",
        "random_numbers = []\n",
        "for _ in range(5):\n",
        "  num = random.randint(1 , 100)\n",
        "  random_numbers.append(num)\n",
        "  print(\"Sorted list:\", random_numbers)"
      ],
      "metadata": {
        "colab": {
          "base_uri": "https://localhost:8080/"
        },
        "id": "-Pm8HK2SLXP0",
        "outputId": "68abbc23-1c74-493c-8f16-81a498c83f39"
      },
      "execution_count": 24,
      "outputs": [
        {
          "output_type": "stream",
          "name": "stdout",
          "text": [
            "Sorted list: [73]\n",
            "Sorted list: [73, 11]\n",
            "Sorted list: [73, 11, 33]\n",
            "Sorted list: [73, 11, 33, 69]\n",
            "Sorted list: [73, 11, 33, 69, 68]\n"
          ]
        }
      ]
    },
    {
      "cell_type": "code",
      "source": [
        "# 28. Write a code to create a list with strings and print the element at the third index.\n",
        "\n",
        "words = ['apple', 'banana' , 'cherry', 'data']\n",
        "print(words[3])"
      ],
      "metadata": {
        "colab": {
          "base_uri": "https://localhost:8080/"
        },
        "id": "Q1lQhsNDNtNo",
        "outputId": "c8f581f4-1a5a-4e3b-b9c8-cc587e6754ac"
      },
      "execution_count": 25,
      "outputs": [
        {
          "output_type": "stream",
          "name": "stdout",
          "text": [
            "data\n"
          ]
        }
      ]
    },
    {
      "cell_type": "code",
      "source": [
        "#  29. Write a code to combine two dictionaries into one and print the result.\n",
        "\n",
        "dict1 = {'a': 1, 'b': 2}\n",
        "dict2 = {'c': 3, 'd': 4}\n",
        "dict1.update(dict2)\n",
        "print(dict1)"
      ],
      "metadata": {
        "colab": {
          "base_uri": "https://localhost:8080/"
        },
        "id": "ag1whcEmOQFM",
        "outputId": "aea501b6-26a9-4ce8-ef81-9941f89b92ed"
      },
      "execution_count": 26,
      "outputs": [
        {
          "output_type": "stream",
          "name": "stdout",
          "text": [
            "{'a': 1, 'b': 2, 'c': 3, 'd': 4}\n"
          ]
        }
      ]
    },
    {
      "cell_type": "code",
      "source": [
        "#  30. Write a code to convert a list of strings into a set.\n",
        "\n",
        "words = ['apple', 'banana' , 'cherry']\n",
        "word_set = set(words)\n",
        "print(word_set)\n",
        "\n"
      ],
      "metadata": {
        "colab": {
          "base_uri": "https://localhost:8080/"
        },
        "id": "p5vXQ_pxOy2e",
        "outputId": "4395ae82-0902-4be5-91a5-65ddd0e508ae"
      },
      "execution_count": 27,
      "outputs": [
        {
          "output_type": "stream",
          "name": "stdout",
          "text": [
            "{'banana', 'cherry', 'apple'}\n"
          ]
        }
      ]
    }
  ]
}